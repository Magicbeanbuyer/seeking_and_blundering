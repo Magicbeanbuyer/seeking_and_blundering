{
 "cells": [
  {
   "cell_type": "code",
   "execution_count": 3,
   "metadata": {
    "collapsed": true
   },
   "outputs": [],
   "source": [
    "from pyspark.sql import SparkSession\n",
    "from pyspark.sql.types import StructType\n",
    "\n",
    "spark = (SparkSession.builder.appName(\"x\")\n",
    "         .config(\"spark.hadoop.fs.s3a.path.style.access\", True)\n",
    "         .config(\"spark.sql.extensions\", \"io.delta.sql.DeltaSparkSessionExtension\")\n",
    "         .config(\"spark.sql.catalog.spark_catalog\", \"org.apache.spark.sql.delta.catalog.DeltaCatalog\")\n",
    "         .config(\"spark.hadoop.fs.s3a.aws.credentials.provider\",\n",
    "                 \"org.apache.hadoop.fs.s3a.AnonymousAWSCredentialsProvider\")\n",
    "         .getOrCreate())\n",
    "spark.sparkContext.setLogLevel(\"ERROR\")"
   ]
  },
  {
   "cell_type": "code",
   "execution_count": 4,
   "outputs": [
    {
     "name": "stdout",
     "output_type": "stream",
     "text": [
      "+------------+--------+--------------------+------------+--------+----------+----------+-----+----------+--------+--------+--------+------------+--------------+\n",
      "|        isin|mnemonic|        securityDesc|securityType|currency|securityID|      date| time|startPrice|maxPrice|minPrice|endPrice|tradedVolume|numberOfTrades|\n",
      "+------------+--------+--------------------+------------+--------+----------+----------+-----+----------+--------+--------+--------+------------+--------------+\n",
      "|AT0000A0E9W5|    SANT|         S+T AG O.N.|Common stock|     EUR|   2504159|2022-02-01|08:00|     16.36|   16.49|   16.35|   16.35|      2334.0|             4|\n",
      "|DE000A0DJ6J9|     S92|SMA SOLAR TECHNOL.AG|Common stock|     EUR|   2504287|2022-02-01|08:00|     31.78|   31.88|    31.6|   31.82|      7672.0|            15|\n",
      "|DE000A0D6554|    NDX1|      NORDEX SE O.N.|Common stock|     EUR|   2504290|2022-02-01|08:00|     14.19|   14.31|   14.19|   14.31|     57633.0|            55|\n",
      "|DE000A0D9PT0|     MTX|MTU AERO ENGINES ...|Common stock|     EUR|   2504297|2022-02-01|08:00|    188.85|   189.7|   188.4|   189.6|      2762.0|            36|\n",
      "|DE000A0HN5C6|    DWNI|DEUTSCHE WOHNEN S...|Common stock|     EUR|   2504314|2022-02-01|08:00|     36.41|   36.41|   36.41|   36.41|       201.0|             1|\n",
      "|DE000A0JL9W6|     VBK|VERBIO VER.BIOENE...|Common stock|     EUR|   2504343|2022-02-01|08:00|      56.5|   56.75|    56.5|   56.75|      2356.0|             4|\n",
      "|DE000A0LD2U1|     AOX|ALSTRIA OFFICE RE...|Common stock|     EUR|   2504379|2022-02-01|08:00|     19.44|   19.44|   19.44|   19.44|     14183.0|             5|\n",
      "|DE000A0LD6E6|     GXI|     GERRESHEIMER AG|Common stock|     EUR|   2504380|2022-02-01|08:00|      80.1|    80.1|    79.7|   79.75|       853.0|             6|\n",
      "|DE000A0WMPJ6|    AIXA|  AIXTRON SE NA O.N.|Common stock|     EUR|   2504428|2022-02-01|08:00|     18.44|   18.45|   18.43|   18.43|      4307.0|             6|\n",
      "|DE000A0Z2ZZ5|    FNTN|  FREENET AG NA O.N.|Common stock|     EUR|   2504438|2022-02-01|08:00|     24.18|   24.19|   24.15|   24.18|      5698.0|            12|\n",
      "|DE000A1DAHH0|     BNR| BRENNTAG SE NA O.N.|Common stock|     EUR|   2504453|2022-02-01|08:00|      76.5|   76.56|   76.32|   76.52|      3819.0|            10|\n",
      "|DE000A1EWWW0|     ADS|   ADIDAS AG NA O.N.|Common stock|     EUR|   2504471|2022-02-01|08:00|     244.3|  244.85|  244.15|  244.15|     18990.0|            59|\n",
      "|DE000A1H8BV3|    NOEJ|NORMA GROUP SE NA...|Common stock|     EUR|   2504474|2022-02-01|08:00|      32.4|   32.62|    32.4|   32.62|       642.0|             4|\n",
      "|DE000A1J5RX9|     O2D|TELEFONICA DTLD H...|Common stock|     EUR|   2504492|2022-02-01|08:00|     2.557|   2.557|   2.557|   2.557|     17470.0|             1|\n",
      "|DE000A1ML7J1|     VNA|  VONOVIA SE NA O.N.|Common stock|     EUR|   2504501|2022-02-01|08:00|      50.5|   50.54|   50.46|   50.54|     25729.0|            39|\n",
      "|DE000A1PHFF7|    BOSS|HUGO BOSS AG NA O.N.|Common stock|     EUR|   2504512|2022-02-01|08:00|      56.5|    56.5|   56.34|    56.4|      7573.0|            17|\n",
      "|DE000A1X3XX4|     DIC|DIC ASSET AG NA O.N.|Common stock|     EUR|   2504532|2022-02-01|08:00|     15.35|   15.35|    15.2|   15.22|      5525.0|            29|\n",
      "|DE000A12DM80|     G24|  SCOUT24 SE NA O.N.|Common stock|     EUR|   2504556|2022-02-01|08:00|     52.98|   52.98|   52.92|   52.92|      1225.0|             6|\n",
      "|DE000A13SX22|     HLE|HELLA GMBH+CO. KG...|Common stock|     EUR|   2504580|2022-02-01|08:00|      61.8|   61.82|    61.8|   61.82|       159.0|             2|\n",
      "|DE000A161N30|     GLJ|   GRENKE AG NA O.N.|Common stock|     EUR|   2504606|2022-02-01|08:00|     28.29|   28.29|    28.2|    28.2|       695.0|             5|\n",
      "+------------+--------+--------------------+------------+--------+----------+----------+-----+----------+--------+--------+--------+------------+--------------+\n",
      "only showing top 20 rows\n",
      "\n"
     ]
    }
   ],
   "source": [
    "schema = (StructType()\n",
    "          .add(\"isin\", \"string\")\n",
    "          .add(\"mnemonic\", \"string\")\n",
    "          .add(\"securityDesc\", \"string\")\n",
    "          .add(\"securityType\", \"string\")\n",
    "          .add(\"currency\", \"string\")\n",
    "          .add(\"securityID\", \"long\")\n",
    "          .add(\"date\", \"date\")\n",
    "          .add(\"time\", \"string\")\n",
    "          .add(\"startPrice\", \"float\")\n",
    "          .add(\"maxPrice\", \"float\")\n",
    "          .add(\"minPrice\", \"float\")\n",
    "          .add(\"endPrice\", \"float\")\n",
    "          .add(\"tradedVolume\", \"float\")\n",
    "          .add(\"numberOfTrades\", \"integer\"))\n",
    "\n",
    "df = (spark\n",
    "      .read\n",
    "      .csv(\"s3a://deutsche-boerse-xetra-pds/2022-02*/\", schema=schema, header=True))\n",
    "df.show()"
   ],
   "metadata": {
    "collapsed": false,
    "pycharm": {
     "name": "#%%\n"
    }
   }
  },
  {
   "cell_type": "code",
   "execution_count": null,
   "outputs": [],
   "source": [],
   "metadata": {
    "collapsed": false,
    "pycharm": {
     "name": "#%%\n"
    }
   }
  }
 ],
 "metadata": {
  "kernelspec": {
   "display_name": "Python 3",
   "language": "python",
   "name": "python3"
  },
  "language_info": {
   "codemirror_mode": {
    "name": "ipython",
    "version": 2
   },
   "file_extension": ".py",
   "mimetype": "text/x-python",
   "name": "python",
   "nbconvert_exporter": "python",
   "pygments_lexer": "ipython2",
   "version": "2.7.6"
  }
 },
 "nbformat": 4,
 "nbformat_minor": 0
}